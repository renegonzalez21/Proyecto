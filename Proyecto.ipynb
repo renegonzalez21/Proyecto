{
  "metadata": {
    "kernelspec": {
      "name": "python",
      "display_name": "Python (Pyodide)",
      "language": "python"
    },
    "language_info": {
      "codemirror_mode": {
        "name": "python",
        "version": 3
      },
      "file_extension": ".py",
      "mimetype": "text/x-python",
      "name": "python",
      "nbconvert_exporter": "python",
      "pygments_lexer": "ipython3",
      "version": "3.8"
    }
  },
  "nbformat_minor": 4,
  "nbformat": 4,
  "cells": [
    {
      "cell_type": "markdown",
      "source": "***OPTIMIZACIÓN CAFES***\n\n**INTEGRANTES**\n\nRene Alejandro González Velázquez  \n\nÁlvaro Ramírez \n\nAlan Yael Almaraz Parra ",
      "metadata": {}
    },
    {
      "cell_type": "markdown",
      "source": "## Planteamiento del Problema de Optimización\n\n**Objetivo:**\nMaximizar las ganancias de la empresa PLENNIA.\n\n**Productos:**\n- Colágeno (x)\n- BHB (y)\n\n**Función de Ganancia:**\nLa función de ganancia total se define como:\n\n$\n\\text{Ganancia Total} = 225x + 300y\n$\n\n## Restricciones\n\n1. **Tiempo de Producción:**\n   - El tiempo total disponible es de 48 horas por semana. Como hay 60 minutos en una hora, esto equivale a 2880 minutos.\n   - El tiempo requerido para la producción es:\n     - Colágeno: 15 minutos por unidad\n     - BHB: 20 minutos por unidad\n\n   La restricción para el tiempo se puede expresar como:\n\n$\n15x + 20y \\leq 2880\n$\n\n2. **Material Disponible:**\n   - El laboratorio dispone de 300,000 gramos de ingredientes por semana.\n   - El material requerido para la producción es:\n     - Colágeno: 330 gramos por unidad\n     - BHB: 150 gramos por unidad\n\n   La restricción para el material se puede expresar como:\n\n$\n330x + 150y \\leq 300000\n$\n\n3. **No Negatividad:**\n   - Las cantidades producidas no pueden ser negativas, por lo que tenemos:\n\n$x \\geq 0$\n\n\n$y \\geq 0$\n\n### Modelo Completo\n\nAhora podemos resumir el modelo de la siguiente manera:\n\n**Maximizar:**\n\n$ Z = 225x + 300y$\n\n**Sujeto a:**\n\n$\n15x + 20y \\leq 2880 \\quad \\text{(Restricción de tiempo)}$\n\n$330x + 150y \\leq 300000 \\quad \\text{(Restricción de materiales)}$\n\n$x \\geq 0$\n\n$y \\geq 0$\n",
      "metadata": {}
    },
    {
      "cell_type": "code",
      "source": "import numpy as np\nfrom scipy.optimize import linprog\n\nc = [-225, -300]  \nA = [\n    [15, 20],  \n    [330, 150]  \n]\n\nb = [2880, 300000]\n\nx0_bounds = (0, None) \nx1_bounds = (0, None) \n\nres = linprog(c, A_ub=A, b_ub=b, bounds=[x0_bounds, x1_bounds], method='highs')\n\n\nif res.success:\n    res.message, res.x[0], res.x[1], -res.fun\n",
      "metadata": {
        "trusted": true
      },
      "outputs": [],
      "execution_count": null
    },
    {
      "cell_type": "code",
      "source": "",
      "metadata": {
        "trusted": true
      },
      "outputs": [],
      "execution_count": null
    }
  ]
}